{
  "nbformat": 4,
  "nbformat_minor": 0,
  "metadata": {
    "colab": {
      "provenance": []
    },
    "kernelspec": {
      "name": "python3",
      "display_name": "Python 3"
    },
    "language_info": {
      "name": "python"
    }
  },
  "cells": [
    {
      "cell_type": "code",
      "execution_count": 1,
      "metadata": {
        "id": "gxoop7sCLwBY"
      },
      "outputs": [],
      "source": [
        "import torch\n",
        "import torch.nn as nn\n",
        "import torch.nn.functional as F\n",
        "from torch.utils.data import DataLoader\n",
        "from torchvision import datasets, transforms\n",
        "from torchvision.utils import make_grid\n",
        "\n",
        "import numpy as np\n",
        "import pandas as pd\n",
        "from sklearn.metrics import confusion_matrix\n",
        "import matplotlib.pyplot as plt\n",
        "%matplotlib inline"
      ]
    },
    {
      "cell_type": "code",
      "source": [
        "transform = transforms.ToTensor()"
      ],
      "metadata": {
        "id": "vHieboUuN1d7"
      },
      "execution_count": 2,
      "outputs": []
    },
    {
      "cell_type": "code",
      "source": [
        "train_data = datasets.MNIST(root='../Data', train=True, download=True, transform=transform)"
      ],
      "metadata": {
        "colab": {
          "base_uri": "https://localhost:8080/"
        },
        "id": "2i7iIq0QvmPF",
        "outputId": "3a6e92c1-bdca-4db6-8185-12b9566da515"
      },
      "execution_count": 3,
      "outputs": [
        {
          "output_type": "stream",
          "name": "stderr",
          "text": [
            "100%|██████████| 9.91M/9.91M [00:00<00:00, 17.5MB/s]\n",
            "100%|██████████| 28.9k/28.9k [00:00<00:00, 487kB/s]\n",
            "100%|██████████| 1.65M/1.65M [00:00<00:00, 4.43MB/s]\n",
            "100%|██████████| 4.54k/4.54k [00:00<00:00, 4.97MB/s]\n"
          ]
        }
      ]
    },
    {
      "cell_type": "code",
      "source": [
        "test_data = datasets.MNIST(root='../Data', train=False, download=True, transform=transform)"
      ],
      "metadata": {
        "id": "yFdqTGtqvqae"
      },
      "execution_count": 4,
      "outputs": []
    },
    {
      "cell_type": "code",
      "source": [
        "print(\"CHANDRU M 212222230026\\n\")\n",
        "train_data"
      ],
      "metadata": {
        "colab": {
          "base_uri": "https://localhost:8080/"
        },
        "id": "ChLmQRspvvjW",
        "outputId": "5f10d96a-f977-4704-85b8-ff76c20a3562"
      },
      "execution_count": 18,
      "outputs": [
        {
          "output_type": "stream",
          "name": "stdout",
          "text": [
            "CHANDRU M 212222230026\n",
            "\n"
          ]
        },
        {
          "output_type": "execute_result",
          "data": {
            "text/plain": [
              "Dataset MNIST\n",
              "    Number of datapoints: 60000\n",
              "    Root location: ../Data\n",
              "    Split: Train\n",
              "    StandardTransform\n",
              "Transform: ToTensor()"
            ]
          },
          "metadata": {},
          "execution_count": 18
        }
      ]
    },
    {
      "cell_type": "code",
      "source": [
        "test_data"
      ],
      "metadata": {
        "colab": {
          "base_uri": "https://localhost:8080/"
        },
        "id": "v_Eo3p5XvzOb",
        "outputId": "532dbb89-9818-4e97-c6a0-0f5671999e8a"
      },
      "execution_count": 6,
      "outputs": [
        {
          "output_type": "execute_result",
          "data": {
            "text/plain": [
              "Dataset MNIST\n",
              "    Number of datapoints: 10000\n",
              "    Root location: ../Data\n",
              "    Split: Test\n",
              "    StandardTransform\n",
              "Transform: ToTensor()"
            ]
          },
          "metadata": {},
          "execution_count": 6
        }
      ]
    },
    {
      "cell_type": "code",
      "source": [
        "train_loader = DataLoader(train_data, batch_size=10, shuffle=True)\n",
        "test_loader = DataLoader(test_data, batch_size=10, shuffle=False)"
      ],
      "metadata": {
        "id": "0BbdPwtBv5Ja"
      },
      "execution_count": 7,
      "outputs": []
    },
    {
      "cell_type": "markdown",
      "source": [
        "CHANDRU M 212222230026"
      ],
      "metadata": {
        "id": "tCGyb_4qv6c_"
      }
    },
    {
      "cell_type": "code",
      "source": [
        "class ConvolutionalNetwork(nn.Module):\n",
        "\n",
        "    def __init__(self):\n",
        "        super().__init__()\n",
        "        self.conv1 = nn.Conv2d(1,6,3,1)\n",
        "        self.conv2 = nn.Conv2d(6,16,3,1)\n",
        "        self.fc1 = nn.Linear(5*5*16,120)\n",
        "        self.fc2 = nn.Linear(120,84)\n",
        "        self.fc3 = nn.Linear(84,10)\n",
        "\n",
        "    def forward(self, X):\n",
        "        X = F.relu(self.conv1(X))\n",
        "        X = F.max_pool2d(X, 2, 2)\n",
        "        X = F.relu(self.conv2(X))\n",
        "        X = F.max_pool2d(X, 2, 2)\n",
        "        X = X.view(-1, 5*5*16)\n",
        "        X = F.relu(self.fc1(X))\n",
        "        X = F.relu(self.fc2(X))\n",
        "        X = self.fc3(X)\n",
        "        return F.log_softmax(X, dim=1)"
      ],
      "metadata": {
        "id": "bDUxScD5v_Gz"
      },
      "execution_count": 8,
      "outputs": []
    },
    {
      "cell_type": "code",
      "source": [
        "criterion = nn.CrossEntropyLoss()\n",
        "model = ConvolutionalNetwork()\n",
        "optimizer = torch.optim.Adam(model.parameters(), lr=0.001)"
      ],
      "metadata": {
        "id": "EQYJWefnwG2q"
      },
      "execution_count": 9,
      "outputs": []
    },
    {
      "cell_type": "code",
      "source": [
        "import time\n",
        "start_time = time.time()\n",
        "\n",
        "# Variables ( Trackers)\n",
        "epochs = 5\n",
        "train_losses = []\n",
        "test_losses = []\n",
        "train_correct = []\n",
        "test_correct = []\n",
        "\n",
        "# for loop epochs\n",
        "for i in range(epochs):\n",
        "\n",
        "    trn_corr = 0\n",
        "    tst_corr = 0\n",
        "\n",
        "\n",
        "    # Run the training batches\n",
        "    for b, (X_train, y_train) in enumerate(train_loader):\n",
        "        b+=1\n",
        "\n",
        "        # Apply the model\n",
        "        y_pred = model(X_train)  # we not flatten X-train here\n",
        "        loss = criterion(y_pred, y_train)\n",
        "\n",
        "\n",
        "        predicted = torch.max(y_pred.data, 1)[1]\n",
        "        batch_corr = (predicted == y_train).sum()  # Trure 1 / False 0 sum()\n",
        "        trn_corr += batch_corr\n",
        "\n",
        "        # Update parameters\n",
        "        optimizer.zero_grad()\n",
        "        loss.backward()\n",
        "        optimizer.step()\n",
        "\n",
        "        # Print interim results\n",
        "        if b%600 == 0:\n",
        "            print(f'epoch: {i}  batch: {b} loss: {loss.item()}')\n",
        "\n",
        "    train_losses.append(loss)\n",
        "    train_correct.append(trn_corr)\n",
        "\n",
        "    # Run the testing batches\n",
        "    with torch.no_grad():\n",
        "        for b, (X_test, y_test) in enumerate(test_loader):\n",
        "\n",
        "            # Apply the model\n",
        "            y_val = model(X_test)\n",
        "\n",
        "            # Tally the number of correct predictions\n",
        "            predicted = torch.max(y_val.data, 1)[1]\n",
        "            tst_corr += (predicted == y_test).sum()\n",
        "\n",
        "    loss = criterion(y_val, y_test)\n",
        "    test_losses.append(loss)\n",
        "    test_correct.append(tst_corr)\n",
        "\n",
        "current_time = time.time()\n",
        "total = current_time - start_time\n",
        "print(f'Training took {total/60} minutes')"
      ],
      "metadata": {
        "colab": {
          "base_uri": "https://localhost:8080/"
        },
        "id": "YXOdXuWLwJ9Z",
        "outputId": "835cfd2a-7a7d-4145-e6ac-31570658ee98"
      },
      "execution_count": 10,
      "outputs": [
        {
          "output_type": "stream",
          "name": "stdout",
          "text": [
            "epoch: 0  batch: 600 loss: 0.1873491257429123\n",
            "epoch: 0  batch: 1200 loss: 0.04315655305981636\n",
            "epoch: 0  batch: 1800 loss: 0.38219699263572693\n",
            "epoch: 0  batch: 2400 loss: 0.0005058437818661332\n",
            "epoch: 0  batch: 3000 loss: 0.02652927301824093\n",
            "epoch: 0  batch: 3600 loss: 0.007204912602901459\n",
            "epoch: 0  batch: 4200 loss: 0.013910731300711632\n",
            "epoch: 0  batch: 4800 loss: 0.20136184990406036\n",
            "epoch: 0  batch: 5400 loss: 0.009564125910401344\n",
            "epoch: 0  batch: 6000 loss: 0.08135659247636795\n",
            "epoch: 1  batch: 600 loss: 0.0025636106729507446\n",
            "epoch: 1  batch: 1200 loss: 0.1271357238292694\n",
            "epoch: 1  batch: 1800 loss: 0.012410896830260754\n",
            "epoch: 1  batch: 2400 loss: 0.001465424196794629\n",
            "epoch: 1  batch: 3000 loss: 0.021036755293607712\n",
            "epoch: 1  batch: 3600 loss: 0.007886363193392754\n",
            "epoch: 1  batch: 4200 loss: 0.010670971125364304\n",
            "epoch: 1  batch: 4800 loss: 0.008888916112482548\n",
            "epoch: 1  batch: 5400 loss: 0.0114215686917305\n",
            "epoch: 1  batch: 6000 loss: 0.09029503166675568\n",
            "epoch: 2  batch: 600 loss: 0.00011559711128938943\n",
            "epoch: 2  batch: 1200 loss: 0.0007280755671672523\n",
            "epoch: 2  batch: 1800 loss: 0.0036346192937344313\n",
            "epoch: 2  batch: 2400 loss: 7.444919174304232e-05\n",
            "epoch: 2  batch: 3000 loss: 0.017525075003504753\n",
            "epoch: 2  batch: 3600 loss: 0.0009626379469409585\n",
            "epoch: 2  batch: 4200 loss: 0.04313116893172264\n",
            "epoch: 2  batch: 4800 loss: 0.0009141066111624241\n",
            "epoch: 2  batch: 5400 loss: 0.0004510259605012834\n",
            "epoch: 2  batch: 6000 loss: 0.14485874772071838\n",
            "epoch: 3  batch: 600 loss: 0.00012003290612483397\n",
            "epoch: 3  batch: 1200 loss: 0.000379565404728055\n",
            "epoch: 3  batch: 1800 loss: 0.0014477346558123827\n",
            "epoch: 3  batch: 2400 loss: 0.3397595286369324\n",
            "epoch: 3  batch: 3000 loss: 0.0025369925424456596\n",
            "epoch: 3  batch: 3600 loss: 0.007579536642879248\n",
            "epoch: 3  batch: 4200 loss: 0.006476117763668299\n",
            "epoch: 3  batch: 4800 loss: 0.012818440794944763\n",
            "epoch: 3  batch: 5400 loss: 0.00013049080735072494\n",
            "epoch: 3  batch: 6000 loss: 0.001035810448229313\n",
            "epoch: 4  batch: 600 loss: 0.0007398186135105789\n",
            "epoch: 4  batch: 1200 loss: 0.0012055706465616822\n",
            "epoch: 4  batch: 1800 loss: 0.04113102704286575\n",
            "epoch: 4  batch: 2400 loss: 0.0028704446740448475\n",
            "epoch: 4  batch: 3000 loss: 0.1102079376578331\n",
            "epoch: 4  batch: 3600 loss: 0.0005700885085389018\n",
            "epoch: 4  batch: 4200 loss: 0.0013233660720288754\n",
            "epoch: 4  batch: 4800 loss: 9.410789061803371e-05\n",
            "epoch: 4  batch: 5400 loss: 0.0010941788787022233\n",
            "epoch: 4  batch: 6000 loss: 0.0005546734319068491\n",
            "Training took 3.1186509132385254 minutes\n"
          ]
        }
      ]
    },
    {
      "cell_type": "code",
      "source": [
        "train_losses = [t.detach().numpy() for t in train_losses]\n",
        "test_losses = [t.detach().numpy() for t in test_losses]\n",
        "\n",
        "plt.plot(train_losses, label='training loss')\n",
        "plt.plot(test_losses, label='validation loss')\n",
        "plt.title('Loss at the end of each epoch')\n",
        "plt.legend();\n",
        "plt.show()"
      ],
      "metadata": {
        "colab": {
          "base_uri": "https://localhost:8080/",
          "height": 452
        },
        "id": "Wn233C-dwgUS",
        "outputId": "c85541ae-de04-45bf-d6e1-7be8179ce61c"
      },
      "execution_count": 11,
      "outputs": [
        {
          "output_type": "display_data",
          "data": {
            "text/plain": [
              "<Figure size 640x480 with 1 Axes>"
            ],
            "image/png": "[encoded data removed]"
          },
          "metadata": {}
        }
      ]
    },
    {
      "cell_type": "code",
      "source": [
        "plt.plot([t/600 for t in train_correct], label='training accuracy')\n",
        "plt.plot([t/100 for t in test_correct], label='validation accuracy')\n",
        "plt.title('Accuracy at the end of each epoch')\n",
        "plt.legend();\n",
        "plt.show()"
      ],
      "metadata": {
        "colab": {
          "base_uri": "https://localhost:8080/",
          "height": 452
        },
        "id": "LJLX5dKqxJni",
        "outputId": "2e92a572-bced-4e2e-a13a-e4833716975c"
      },
      "execution_count": 12,
      "outputs": [
        {
          "output_type": "display_data",
          "data": {
            "text/plain": [
              "<Figure size 640x480 with 1 Axes>"
            ],
            "image/png": "[encoded data removed]"
          },
          "metadata": {}
        }
      ]
    },
    {
      "cell_type": "code",
      "source": [
        "print(\"CHANDRU M 212222230026\\n\")\n",
        "np.set_printoptions(formatter=dict(int=lambda x: f'{x:4}'))\n",
        "print(np.arange(10).reshape(1,10))\n",
        "print()\n",
        "\n",
        "print(confusion_matrix(predicted.view(-1), y_test.view(-1)))"
      ],
      "metadata": {
        "colab": {
          "base_uri": "https://localhost:8080/"
        },
        "id": "cgduu216xNdb",
        "outputId": "3e78ee80-0d36-4a27-9768-8180c13ab503"
      },
      "execution_count": 17,
      "outputs": [
        {
          "output_type": "stream",
          "name": "stdout",
          "text": [
            "CHANDRU M 212222230026\n",
            "\n",
            "[[   0    1    2    3    4    5    6    7    8    9]]\n",
            "\n",
            "[[   1    0    0    0    0    0    0    0    0    0]\n",
            " [   0    1    0    0    0    0    0    0    0    0]\n",
            " [   0    0    1    0    0    0    0    0    0    0]\n",
            " [   0    0    0    1    0    0    0    0    0    0]\n",
            " [   0    0    0    0    1    0    0    0    0    0]\n",
            " [   0    0    0    0    0    1    0    0    0    0]\n",
            " [   0    0    0    0    0    0    1    0    0    0]\n",
            " [   0    0    0    0    0    0    0    1    0    0]\n",
            " [   0    0    0    0    0    0    0    0    1    0]\n",
            " [   0    0    0    0    0    0    0    0    0    1]]\n"
          ]
        }
      ]
    },
    {
      "cell_type": "code",
      "source": [
        "\n",
        "torch.save(model.state_dict(),'Chandru212222230026 ex03.pt')"
      ],
      "metadata": {
        "id": "NzJyQa5QxR-N"
      },
      "execution_count": 14,
      "outputs": []
    }
  ]
}